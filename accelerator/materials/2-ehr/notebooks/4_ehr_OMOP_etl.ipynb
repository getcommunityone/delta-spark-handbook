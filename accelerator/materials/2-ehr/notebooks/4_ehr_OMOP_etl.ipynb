{
 "cells": [
  {
   "cell_type": "markdown",
   "metadata": {},
   "source": [
    "\n",
    "You may find this series of notebooks at https://github.com/databricks-industry-solutions/omop-cdm. For more information about this solution accelerator, visit https://www.databricks.com/blog/2021/07/19/unlocking-the-power-of-health-data-with-a-modern-data-lakehouse.html.\n",
    "\n",
    "# ETL: Synthea to OMOP531\n",
    "Now that all tables and schemas are defined, we need to ETL the data from the source to OMOP model. Note that ETL process is heavily dependent on the source data model which varies from institution to institution. Arguably writing the ETL is the most time consuming part of the process. In this notebook, we use an example ETL, based on OHDSI/ETL-Synthea repository, for mapping from synthea model to OMOP to populate a subset of OMOP tables as a point of reference for benchmarking. Also, we provide example notebooks for data analysis on the resulting omop tables using SQL, python and R."
   ]
  },
  {
   "cell_type": "markdown",
   "metadata": {},
   "source": [
    "# Load synthea tables from Bronze layer\n"
   ]
  },
  {
   "cell_type": "code",
   "execution_count": null,
   "metadata": {
    "vscode": {
     "languageId": "plaintext"
    }
   },
   "outputs": [],
   "source": [
    "table_names =['allergies','careplans','conditions','devices','encounters','imaging_studies',\\\n",
    "              'immunizations','medications','observations','organizations','patients',\\\n",
    "              'payer_transitions','payers','procedures','providers','supplies']\n",
    "for table_name in table_names:\n",
    "    sql(f\"\"\"\n",
    "    CREATE OR REPLACE TEMPORARY VIEW {table_name} AS (\n",
    "      SELECT * FROM delta.`{delta_bronze_path}/{table_name}`\n",
    "      )\n",
    "    \"\"\"\n",
    "    )"
   ]
  }
 ],
 "metadata": {
  "language_info": {
   "name": "python"
  }
 },
 "nbformat": 4,
 "nbformat_minor": 2
}
