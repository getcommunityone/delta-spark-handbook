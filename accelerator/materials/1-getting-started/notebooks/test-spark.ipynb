{
  "cells": [
    {
      "cell_type": "code",
      "execution_count": 1,
      "metadata": {},
      "outputs": [
        {
          "name": "stderr",
          "output_type": "stream",
          "text": [
            "Warning: Ignoring non-Spark config property: fs.s3a.metrics.enabled\n",
            "25/02/20 19:02:09 WARN NativeCodeLoader: Unable to load native-hadoop library for your platform... using builtin-java classes where applicable\n",
            "Setting default log level to \"WARN\".\n",
            "To adjust logging level use sc.setLogLevel(newLevel). For SparkR, use setLogLevel(newLevel).\n",
            "                                                                                \r"
          ]
        },
        {
          "name": "stdout",
          "output_type": "stream",
          "text": [
            "+---+----+\n",
            "| id|name|\n",
            "+---+----+\n",
            "|  1|John|\n",
            "|  2|Jane|\n",
            "+---+----+\n",
            "\n",
            "Testing S3 connection with parquet write...\n"
          ]
        },
        {
          "name": "stderr",
          "output_type": "stream",
          "text": [
            "25/02/20 19:02:17 WARN MetricsConfig: Cannot locate configuration: tried hadoop-metrics2-s3a-file-system.properties,hadoop-metrics2.properties\n",
            "                                                                                \r"
          ]
        },
        {
          "name": "stdout",
          "output_type": "stream",
          "text": [
            "S3 connection successful\n",
            "Attempting to write Delta table...\n"
          ]
        },
        {
          "name": "stderr",
          "output_type": "stream",
          "text": [
            "25/02/20 19:02:25 WARN package: Truncated the string representation of a plan since it was too large. This behavior can be adjusted by setting 'spark.sql.debug.maxToStringFields'.\n",
            "                                                                                \r"
          ]
        },
        {
          "name": "stdout",
          "output_type": "stream",
          "text": [
            "Successfully wrote Delta table\n"
          ]
        }
      ],
      "source": [
        "import os\n",
        "import subprocess\n",
        "import sys\n",
        "from pyspark.sql import SparkSession\n",
        "\n",
        "# Get the Spark home directory\n",
        "spark_home = os.environ.get('SPARK_HOME', '/opt/spark')\n",
        "\n",
        "# Define all required JARs\n",
        "jars = [\n",
        "    f\"{spark_home}/jars/delta-core_2.12-2.4.0.jar\",\n",
        "    f\"{spark_home}/jars/delta-storage-2.4.0.jar\",\n",
        "    f\"{spark_home}/jars/hadoop-aws-3.3.2.jar\",\n",
        "    f\"{spark_home}/jars/aws-java-sdk-bundle-1.12.261.jar\"\n",
        "]\n",
        "\n",
        "# Create SparkSession using the builder pattern\n",
        "builder = (SparkSession.builder\n",
        "           .appName(\"DeltaExample\")\n",
        "           .master(\"local[*]\")\n",
        "           # Add debug configurations\n",
        "           .config(\"spark.hadoop.fs.s3a.connection.maximum\", \"1\")\n",
        "           .config(\"spark.hadoop.fs.s3a.attempts.maximum\", \"1\")\n",
        "           .config(\"spark.hadoop.fs.s3a.connection.timeout\", \"5000\")\n",
        "           .config(\"spark.hadoop.fs.s3a.impl.disable.cache\", \"true\")\n",
        "           .config(\"spark.hadoop.fs.s3a.debug.detailed.exceptions\", \"true\")\n",
        "           # Add jars directly\n",
        "           .config(\"spark.jars\", \",\".join(jars))\n",
        "           .config(\"spark.driver.extraClassPath\", \",\".join(jars))\n",
        "           .config(\"spark.executor.extraClassPath\", \",\".join(jars))\n",
        "           # Delta Lake configurations\n",
        "           .config(\"spark.sql.extensions\", \"io.delta.sql.DeltaSparkSessionExtension\")\n",
        "           .config(\"spark.sql.catalog.spark_catalog\", \"org.apache.spark.sql.delta.catalog.DeltaCatalog\")\n",
        "           # S3/MinIO configurations\n",
        "           .config(\"spark.hadoop.fs.s3a.access.key\", \"minioadmin\")\n",
        "           .config(\"spark.hadoop.fs.s3a.secret.key\", \"minioadmin\")\n",
        "           .config(\"spark.hadoop.fs.s3a.endpoint\", \"http://minio:9000\")\n",
        "           .config(\"spark.hadoop.fs.s3a.path.style.access\", \"true\")\n",
        "           .config(\"fs.s3a.metrics.enabled\", \"false\")\n",
        "           .config(\"spark.hadoop.fs.s3a.impl\", \"org.apache.hadoop.fs.s3a.S3AFileSystem\")\n",
        "           .config(\"spark.hadoop.fs.s3a.aws.credentials.provider\", \"org.apache.hadoop.fs.s3a.SimpleAWSCredentialsProvider\")\n",
        "           .config(\"spark.hadoop.fs.s3a.connection.ssl.enabled\", \"false\")\n",
        "           # Additional Delta Lake configurations\n",
        "           .config(\"spark.delta.logStore.class\", \"io.delta.storage.S3SingleDriverLogStore\")\n",
        "           .config(\"spark.hadoop.fs.s3a.fast.upload\", \"true\")\n",
        "           .config(\"spark.hadoop.fs.s3a.multipart.size\", \"104857600\")\n",
        "           .config(\"spark.sql.warehouse.dir\", \"/tmp/spark-warehouse\"))\n",
        "\n",
        "# Stop any existing session\n",
        "if 'spark' in locals():\n",
        "    spark.stop()\n",
        "\n",
        "\n",
        "# Create the session\n",
        "spark = builder.enableHiveSupport().getOrCreate()\n",
        "\n",
        "# Initialize Delta Lake settings\n",
        "spark.sql(\"SET spark.databricks.delta.formatCheck.enabled=false\")\n",
        "\n",
        "# Access the SparkContext\n",
        "# sc = spark.sparkContext\n",
        "\n",
        "# Set the log level to INFO\n",
        "# sc.setLogLevel(\"DEBUG\")\n",
        "\n",
        "# Test DataFrame\n",
        "data = [(1, \"John\"), (2, \"Jane\")]\n",
        "df = spark.createDataFrame(data, [\"id\", \"name\"])\n",
        "df.show()\n",
        "\n",
        "# First verify the S3 connection by listing the bucket\n",
        "try:\n",
        "    # Try to write to a simple parquet file first to test S3 connection\n",
        "    print(\"Testing S3 connection with parquet write...\")\n",
        "    df.write.format(\"parquet\").mode(\"overwrite\").save(\"s3a://wba/test.parquet\")\n",
        "    print(\"S3 connection successful\")\n",
        "\n",
        "    print(\"Attempting to write Delta table...\")\n",
        "    df.write \\\n",
        "        .format(\"delta\") \\\n",
        "        .mode(\"overwrite\") \\\n",
        "        .option(\"overwriteSchema\", \"true\") \\\n",
        "        .option(\"delta.compatibility.symlinkFormatManifest.enabled\", \"false\") \\\n",
        "        .save(\"s3a://wba/example-table\")\n",
        "    print(\"Successfully wrote Delta table\")\n",
        "\n",
        "except Exception as e:\n",
        "    print(f\"Error: {str(e)}\")\n",
        "    print(\"\\nTrying local filesystem instead...\")\n",
        "    try:\n",
        "        local_path = \"/tmp/test-delta-table\"\n",
        "        df.write \\\n",
        "            .format(\"delta\") \\\n",
        "            .mode(\"overwrite\") \\\n",
        "            .option(\"overwriteSchema\", \"true\") \\\n",
        "            .save(local_path)\n",
        "        print(f\"Successfully wrote to {local_path}\")\n",
        "    except Exception as local_e:\n",
        "        print(f\"Error writing to local filesystem: {str(local_e)}\")"
      ]
    },
    {
      "cell_type": "code",
      "execution_count": null,
      "metadata": {},
      "outputs": [],
      "source": []
    }
  ],
  "metadata": {
    "kernelspec": {
      "display_name": "Python 3",
      "language": "python",
      "name": "python3"
    },
    "language_info": {
      "codemirror_mode": {
        "name": "ipython",
        "version": 3
      },
      "file_extension": ".py",
      "mimetype": "text/x-python",
      "name": "python",
      "nbconvert_exporter": "python",
      "pygments_lexer": "ipython3",
      "version": "3.10.16"
    }
  },
  "nbformat": 4,
  "nbformat_minor": 4
}
