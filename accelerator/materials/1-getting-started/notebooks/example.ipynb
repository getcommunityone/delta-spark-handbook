{
  "cells": [
    {
      "cell_type": "code",
      "execution_count": 1,
      "metadata": {},
      "outputs": [
        {
          "name": "stderr",
          "output_type": "stream",
          "text": [
            "25/02/18 01:10:31 WARN NativeCodeLoader: Unable to load native-hadoop library for your platform... using builtin-java classes where applicable\n",
            "Setting default log level to \"WARN\".\n",
            "To adjust logging level use sc.setLogLevel(newLevel). For SparkR, use setLogLevel(newLevel).\n",
            "25/02/18 01:10:40 WARN SQLConf: The SQL config 'spark.sql.legacy.parquet.datetimeRebaseModeInWrite' has been deprecated in Spark v3.2 and may be removed in the future. Use 'spark.sql.parquet.datetimeRebaseModeInWrite' instead.\n",
            "                                                                                \r"
          ]
        },
        {
          "name": "stdout",
          "output_type": "stream",
          "text": [
            "+---+----+\n",
            "| id|name|\n",
            "+---+----+\n",
            "|  1|John|\n",
            "|  2|Jane|\n",
            "+---+----+\n",
            "\n",
            "Testing S3 connection with parquet write...\n"
          ]
        },
        {
          "name": "stderr",
          "output_type": "stream",
          "text": [
            "25/02/18 01:10:44 WARN MetricsConfig: Cannot locate configuration: tried hadoop-metrics2-s3a-file-system.properties,hadoop-metrics2.properties\n",
            "ERROR:root:Exception while sending command.\n",
            "Traceback (most recent call last):\n",
            "  File \"/home/vscode/.local/lib/python3.10/site-packages/py4j/clientserver.py\", line 511, in send_command\n",
            "    answer = smart_decode(self.stream.readline()[:-1])\n",
            "RuntimeError: reentrant call inside <_io.BufferedReader name=73>\n",
            "\n",
            "During handling of the above exception, another exception occurred:\n",
            "\n",
            "Traceback (most recent call last):\n",
            "  File \"/home/vscode/.local/lib/python3.10/site-packages/py4j/java_gateway.py\", line 1038, in send_command\n",
            "    response = connection.send_command(command)\n",
            "  File \"/home/vscode/.local/lib/python3.10/site-packages/py4j/clientserver.py\", line 539, in send_command\n",
            "    raise Py4JNetworkError(\n",
            "py4j.protocol.Py4JNetworkError: Error while sending or receiving\n",
            "ERROR:root:Exception while sending command.\n",
            "Traceback (most recent call last):\n",
            "  File \"/home/vscode/.local/lib/python3.10/site-packages/py4j/clientserver.py\", line 511, in send_command\n",
            "    answer = smart_decode(self.stream.readline()[:-1])\n",
            "  File \"/usr/local/lib/python3.10/socket.py\", line 717, in readinto\n",
            "    return self._sock.recv_into(b)\n",
            "  File \"/home/vscode/.local/lib/python3.10/site-packages/pyspark/context.py\", line 377, in signal_handler\n",
            "    self.cancelAllJobs()\n",
            "  File \"/home/vscode/.local/lib/python3.10/site-packages/pyspark/context.py\", line 2255, in cancelAllJobs\n",
            "    self._jsc.sc().cancelAllJobs()\n",
            "  File \"/home/vscode/.local/lib/python3.10/site-packages/py4j/java_gateway.py\", line 1322, in __call__\n",
            "    return_value = get_return_value(\n",
            "  File \"/home/vscode/.local/lib/python3.10/site-packages/pyspark/errors/exceptions/captured.py\", line 169, in deco\n",
            "    return f(*a, **kw)\n",
            "  File \"/home/vscode/.local/lib/python3.10/site-packages/py4j/protocol.py\", line 334, in get_return_value\n",
            "    raise Py4JError(\n",
            "py4j.protocol.Py4JError: An error occurred while calling o49.sc\n",
            "\n",
            "During handling of the above exception, another exception occurred:\n",
            "\n",
            "Traceback (most recent call last):\n",
            "  File \"/home/vscode/.local/lib/python3.10/site-packages/py4j/java_gateway.py\", line 1038, in send_command\n",
            "    response = connection.send_command(command)\n",
            "  File \"/home/vscode/.local/lib/python3.10/site-packages/py4j/clientserver.py\", line 539, in send_command\n",
            "    raise Py4JNetworkError(\n",
            "py4j.protocol.Py4JNetworkError: Error while sending or receiving\n"
          ]
        },
        {
          "name": "stdout",
          "output_type": "stream",
          "text": [
            "Error: An error occurred while calling o85.save\n",
            "\n",
            "Trying local filesystem instead...\n"
          ]
        },
        {
          "name": "stderr",
          "output_type": "stream",
          "text": [
            "25/02/18 01:14:35 WARN package: Truncated the string representation of a plan since it was too large. This behavior can be adjusted by setting 'spark.sql.debug.maxToStringFields'.\n",
            "                                                                                \r"
          ]
        },
        {
          "name": "stdout",
          "output_type": "stream",
          "text": [
            "Successfully wrote to /tmp/test-delta-table\n"
          ]
        }
      ],
      "source": [
        "import os\n",
        "import subprocess\n",
        "import sys\n",
        "from pyspark.sql import SparkSession\n",
        "\n",
        "# Get the Spark home directory\n",
        "spark_home = os.environ.get('SPARK_HOME', '/opt/spark')\n",
        "\n",
        "# Define all required JARs\n",
        "jars = [\n",
        "    f\"{spark_home}/jars/delta-core_2.12-2.4.0.jar\",\n",
        "    f\"{spark_home}/jars/delta-storage-2.4.0.jar\",\n",
        "    f\"{spark_home}/jars/hadoop-aws-3.3.2.jar\",\n",
        "    f\"{spark_home}/jars/aws-java-sdk-bundle-1.12.261.jar\"\n",
        "]\n",
        "\n",
        "# Create SparkSession using the builder pattern\n",
        "builder = (SparkSession.builder\n",
        "           .appName(\"DeltaExample\")\n",
        "           .master(\"local[*]\")\n",
        "           # Add jars directly\n",
        "           .config(\"spark.jars\", \",\".join(jars))\n",
        "           .config(\"spark.driver.extraClassPath\", \",\".join(jars))\n",
        "           .config(\"spark.executor.extraClassPath\", \",\".join(jars))\n",
        "           # Delta Lake configurations\n",
        "           .config(\"spark.sql.extensions\", \"io.delta.sql.DeltaSparkSessionExtension\")\n",
        "           .config(\"spark.sql.catalog.spark_catalog\", \"org.apache.spark.sql.delta.catalog.DeltaCatalog\")\n",
        "           # S3/MinIO configurations\n",
        "           .config(\"spark.hadoop.fs.s3a.access.key\", \"minioadmin\")\n",
        "           .config(\"spark.hadoop.fs.s3a.secret.key\", \"minioadmin\")\n",
        "           .config(\"spark.hadoop.fs.s3a.endpoint\", \"http://localhost:9000\")\n",
        "           .config(\"spark.hadoop.fs.s3a.path.style.access\", \"true\")\n",
        "           .config(\"spark.hadoop.fs.s3a.impl\", \"org.apache.hadoop.fs.s3a.S3AFileSystem\")\n",
        "           .config(\"spark.hadoop.fs.s3a.aws.credentials.provider\", \"org.apache.hadoop.fs.s3a.SimpleAWSCredentialsProvider\")\n",
        "           .config(\"spark.hadoop.fs.s3a.connection.ssl.enabled\", \"false\")\n",
        "           # Additional Delta Lake configurations\n",
        "           .config(\"spark.delta.logStore.class\", \"io.delta.storage.S3SingleDriverLogStore\")\n",
        "           .config(\"spark.hadoop.fs.s3a.fast.upload\", \"true\")\n",
        "           .config(\"spark.hadoop.fs.s3a.multipart.size\", \"104857600\")\n",
        "           .config(\"spark.sql.warehouse.dir\", \"/tmp/spark-warehouse\"))\n",
        "\n",
        "# Stop any existing session\n",
        "if 'spark' in locals():\n",
        "    spark.stop()\n",
        "\n",
        "# Create the session\n",
        "spark = builder.enableHiveSupport().getOrCreate()\n",
        "\n",
        "# Initialize Delta Lake settings\n",
        "spark.sql(\"SET spark.databricks.delta.formatCheck.enabled=false\")\n",
        "spark.sql(\"SET spark.sql.legacy.parquet.datetimeRebaseModeInWrite=LEGACY\")\n",
        "\n",
        "# Test DataFrame\n",
        "data = [(1, \"John\"), (2, \"Jane\")]\n",
        "df = spark.createDataFrame(data, [\"id\", \"name\"])\n",
        "df.show()\n",
        "\n",
        "# First verify the S3 connection by listing the bucket\n",
        "try:\n",
        "    # Try to write to a simple parquet file first to test S3 connection\n",
        "    print(\"Testing S3 connection with parquet write...\")\n",
        "    df.write.format(\"parquet\").mode(\"overwrite\").save(\"s3a://wba/test.parquet\")\n",
        "    print(\"S3 connection successful\")\n",
        "\n",
        "    print(\"Attempting to write Delta table...\")\n",
        "    df.write \\\n",
        "        .format(\"delta\") \\\n",
        "        .mode(\"overwrite\") \\\n",
        "        .option(\"overwriteSchema\", \"true\") \\\n",
        "        .option(\"delta.compatibility.symlinkFormatManifest.enabled\", \"false\") \\\n",
        "        .save(\"s3a://wba/example-table\")\n",
        "    print(\"Successfully wrote Delta table\")\n",
        "\n",
        "except Exception as e:\n",
        "    print(f\"Error: {str(e)}\")\n",
        "    print(\"\\nTrying local filesystem instead...\")\n",
        "    try:\n",
        "        local_path = \"/tmp/test-delta-table\"\n",
        "        df.write \\\n",
        "            .format(\"delta\") \\\n",
        "            .mode(\"overwrite\") \\\n",
        "            .option(\"overwriteSchema\", \"true\") \\\n",
        "            .save(local_path)\n",
        "        print(f\"Successfully wrote to {local_path}\")\n",
        "    except Exception as local_e:\n",
        "        print(f\"Error writing to local filesystem: {str(local_e)}\")"
      ]
    },
    {
      "cell_type": "code",
      "execution_count": null,
      "metadata": {},
      "outputs": [],
      "source": []
    }
  ],
  "metadata": {
    "kernelspec": {
      "display_name": "Python 3",
      "language": "python",
      "name": "python3"
    },
    "language_info": {
      "codemirror_mode": {
        "name": "ipython",
        "version": 3
      },
      "file_extension": ".py",
      "mimetype": "text/x-python",
      "name": "python",
      "nbconvert_exporter": "python",
      "pygments_lexer": "ipython3",
      "version": "3.10.16"
    }
  },
  "nbformat": 4,
  "nbformat_minor": 4
}
