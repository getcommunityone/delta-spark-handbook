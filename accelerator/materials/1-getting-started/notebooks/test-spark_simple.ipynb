{
  "cells": [
    {
      "cell_type": "code",
      "execution_count": 1,
      "metadata": {},
      "outputs": [
        {
          "name": "stderr",
          "output_type": "stream",
          "text": [
            "Setting default log level to \"WARN\".\n",
            "To adjust logging level use sc.setLogLevel(newLevel). For SparkR, use setLogLevel(newLevel).\n",
            "25/03/07 19:43:17 WARN NativeCodeLoader: Unable to load native-hadoop library for your platform... using builtin-java classes where applicable\n",
            "                                                                                \r"
          ]
        },
        {
          "name": "stdout",
          "output_type": "stream",
          "text": [
            "+---+----+\n",
            "| id|name|\n",
            "+---+----+\n",
            "|  1|John|\n",
            "|  2|Jane|\n",
            "+---+----+\n",
            "\n",
            "Attempting to write Delta table...\n"
          ]
        },
        {
          "name": "stderr",
          "output_type": "stream",
          "text": [
            "25/03/07 19:43:36 WARN MetricsConfig: Cannot locate configuration: tried hadoop-metrics2-s3a-file-system.properties,hadoop-metrics2.properties\n",
            "25/03/07 19:43:45 WARN SparkStringUtils: Truncated the string representation of a plan since it was too large. This behavior can be adjusted by setting 'spark.sql.debug.maxToStringFields'.\n",
            "                                                                                \r"
          ]
        },
        {
          "name": "stdout",
          "output_type": "stream",
          "text": [
            "Successfully wrote Delta table\n"
          ]
        }
      ],
      "source": [
        "import os\n",
        "import subprocess\n",
        "import sys\n",
        "from typing import List\n",
        "from pyspark.sql import SparkSession\n",
        "import logging\n",
        "\n",
        "# Configure logging\n",
        "logging.basicConfig(level=logging.INFO)\n",
        "logger = logging.getLogger(__name__)\n",
        "\n",
        "# Define the base directory\n",
        "jars_home = '/workspace/delta-spark-handbook/delta-jars'\n",
        "\n",
        "# Create SparkSession using the builder pattern\n",
        "builder = (SparkSession.builder\n",
        "           .appName(\"DeltaExample\")\n",
        "           .master(\"local[*]\")\n",
        "           .config(\"spark.sql.extensions\", \"io.delta.sql.DeltaSparkSessionExtension\")\n",
        "           .config(\"spark.sql.catalog.spark_catalog\", \"org.apache.spark.sql.delta.catalog.DeltaCatalog\")\n",
        "           .config(\"spark.hadoop.fs.s3a.access.key\", \"minioadmin\")\n",
        "           .config(\"spark.hadoop.fs.s3a.secret.key\", \"minioadmin\")\n",
        "           .config(\"spark.hadoop.fs.s3a.endpoint\", \"http://minio:9000\")\n",
        "           .config(\"spark.hadoop.fs.s3a.path.style.access\", \"true\")\n",
        "           .config(\"spark.hadoop.fs.s3a.impl\", \"org.apache.hadoop.fs.s3a.S3AFileSystem\")\n",
        "           .config(\"spark.hadoop.fs.s3a.aws.credentials.provider\", \"org.apache.hadoop.fs.s3a.SimpleAWSCredentialsProvider\")\n",
        "           .config(\"spark.hadoop.fs.s3a.connection.ssl.enabled\", \"false\")\n",
        "\n",
        "           )\n",
        "\n",
        "# Stop any existing session\n",
        "if 'spark' in locals():\n",
        "    spark.stop()\n",
        "\n",
        "\n",
        "# Create the session\n",
        "spark = builder.enableHiveSupport().getOrCreate()\n",
        "\n",
        "# Initialize Delta Lake settings\n",
        "# spark.sql(\"SET spark.databricks.delta.formatCheck.enabled=false\")\n",
        "\n",
        "# Access the SparkContext\n",
        "# sc = spark.sparkContext\n",
        "\n",
        "# Set the log level to INFO\n",
        "# sc.setLogLevel(\"DEBUG\")\n",
        "\n",
        "# Test DataFrame\n",
        "data = [(1, \"John\"), (2, \"Jane\")]\n",
        "df = spark.createDataFrame(data, [\"id\", \"name\"])\n",
        "df.show()\n",
        "\n",
        "# First verify the S3 connection by listing the bucket\n",
        "try:\n",
        "    # Try to write to a simple parquet file first to test S3 connection\n",
        "    # print(\"Testing S3 connection with parquet write...\")\n",
        "    # df.write.format(\"parquet\").mode(\n",
        "    #     \"overwrite\").save(\"s3a://wba/test4.parquet\")\n",
        "    # print(\"S3 connection successful\")\n",
        "\n",
        "    print(\"Attempting to write Delta table...\")\n",
        "    df.write \\\n",
        "        .format(\"delta\") \\\n",
        "        .mode(\"overwrite\") \\\n",
        "        .option(\"overwriteSchema\", \"true\") \\\n",
        "        .option(\"delta.compatibility.symlinkFormatManifest.enabled\", \"false\") \\\n",
        "        .save(\"s3a://wba/example-table3\")\n",
        "    print(\"Successfully wrote Delta table\")\n",
        "\n",
        "except Exception as e:\n",
        "    print(f\"Error: {str(e)}\")\n",
        "    print(\"\\nTrying local filesystem instead...\")\n",
        "    try:\n",
        "        local_path = \"/tmp/test-delta-table\"\n",
        "        df.write \\\n",
        "            .format(\"delta\") \\\n",
        "            .mode(\"overwrite\") \\\n",
        "            .option(\"overwriteSchema\", \"true\") \\\n",
        "            .save(local_path)\n",
        "        print(f\"Successfully wrote to {local_path}\")\n",
        "    except Exception as local_e:\n",
        "        print(f\"Error writing to local filesystem: {str(local_e)}\")"
      ]
    },
    {
      "cell_type": "code",
      "execution_count": null,
      "metadata": {},
      "outputs": [],
      "source": []
    }
  ],
  "metadata": {
    "kernelspec": {
      "display_name": "Python 3",
      "language": "python",
      "name": "python3"
    },
    "language_info": {
      "codemirror_mode": {
        "name": "ipython",
        "version": 3
      },
      "file_extension": ".py",
      "mimetype": "text/x-python",
      "name": "python",
      "nbconvert_exporter": "python",
      "pygments_lexer": "ipython3",
      "version": "3.10.16"
    }
  },
  "nbformat": 4,
  "nbformat_minor": 4
}
